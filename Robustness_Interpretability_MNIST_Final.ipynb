{
  "nbformat": 4,
  "nbformat_minor": 0,
  "metadata": {
    "colab": {
      "name": "Robustness-Interpretability-MNIST-Final.ipynb",
      "provenance": [],
      "collapsed_sections": []
    },
    "kernelspec": {
      "name": "python3",
      "display_name": "Python 3"
    },
    "language_info": {
      "name": "python"
    },
    "accelerator": "GPU"
  },
  "cells": [
    {
      "cell_type": "markdown",
      "source": [
        "[![Open In Colab](https://colab.research.google.com/assets/colab-badge.svg)](https://colab.research.google.com/github/ClaireZixiWang/robustness-interpretability/blob/main/Robustness_Interpretability_MNIST_Final.ipynb)"
      ],
      "metadata": {
        "id": "uHmycuzOvSaw"
      }
    },
    {
      "cell_type": "markdown",
      "source": [
        "# 0. Prerequisites"
      ],
      "metadata": {
        "id": "oFXO2lXywf75"
      }
    },
    {
      "cell_type": "code",
      "source": [
        "!pip install torchattacks"
      ],
      "metadata": {
        "colab": {
          "base_uri": "https://localhost:8080/"
        },
        "id": "HsvQegfvDWTT",
        "outputId": "6144b29a-fb67-492e-bedf-8cea8caf9aa0"
      },
      "execution_count": null,
      "outputs": [
        {
          "output_type": "stream",
          "name": "stdout",
          "text": [
            "Collecting torchattacks\n",
            "  Downloading torchattacks-3.2.3-py3-none-any.whl (102 kB)\n",
            "\u001b[?25l\r\u001b[K     |███▏                            | 10 kB 18.3 MB/s eta 0:00:01\r\u001b[K     |██████▍                         | 20 kB 7.3 MB/s eta 0:00:01\r\u001b[K     |█████████▋                      | 30 kB 6.6 MB/s eta 0:00:01\r\u001b[K     |████████████▉                   | 40 kB 6.1 MB/s eta 0:00:01\r\u001b[K     |████████████████                | 51 kB 4.1 MB/s eta 0:00:01\r\u001b[K     |███████████████████▏            | 61 kB 4.4 MB/s eta 0:00:01\r\u001b[K     |██████████████████████▍         | 71 kB 4.5 MB/s eta 0:00:01\r\u001b[K     |█████████████████████████▋      | 81 kB 5.0 MB/s eta 0:00:01\r\u001b[K     |████████████████████████████▉   | 92 kB 4.8 MB/s eta 0:00:01\r\u001b[K     |████████████████████████████████| 102 kB 3.9 MB/s \n",
            "\u001b[?25hInstalling collected packages: torchattacks\n",
            "Successfully installed torchattacks-3.2.3\n"
          ]
        }
      ]
    },
    {
      "cell_type": "code",
      "source": [
        "from google.colab import drive\n",
        "drive.mount('/content/drive')"
      ],
      "metadata": {
        "id": "WcgdMq-4CdPX",
        "colab": {
          "base_uri": "https://localhost:8080/"
        },
        "outputId": "159e05ca-3b2c-4e73-858f-961dad18e3ec"
      },
      "execution_count": null,
      "outputs": [
        {
          "output_type": "stream",
          "name": "stdout",
          "text": [
            "Drive already mounted at /content/drive; to attempt to forcibly remount, call drive.mount(\"/content/drive\", force_remount=True).\n"
          ]
        }
      ]
    },
    {
      "cell_type": "code",
      "execution_count": null,
      "metadata": {
        "id": "lOjjv6Vr9_sG"
      },
      "outputs": [],
      "source": [
        "import torch, torchvision\n",
        "from torch import nn\n",
        "from torch import optim\n",
        "from torchvision.transforms import ToTensor\n",
        "import torch.nn.functional as F\n",
        "import matplotlib.pyplot as plt\n",
        "import torchvision.transforms as transforms"
      ]
    },
    {
      "cell_type": "code",
      "source": [
        "import requests\n",
        "from PIL import Image\n",
        "from io import BytesIO\n",
        "\n",
        "import copy\n",
        "import itertools"
      ],
      "metadata": {
        "id": "1WBWxR2Q-4a6"
      },
      "execution_count": null,
      "outputs": []
    },
    {
      "cell_type": "code",
      "source": [
        "from sklearn.metrics import confusion_matrix\n",
        "import pandas as pd\n",
        "import numpy as np"
      ],
      "metadata": {
        "id": "KhCIv-V3BKFx"
      },
      "execution_count": null,
      "outputs": []
    },
    {
      "cell_type": "code",
      "source": [
        "if torch.cuda.is_available():\n",
        "    device = torch.device(\"cuda:0\")\n",
        "else:\n",
        "    device = torch.device(\"cpu\")\n",
        "    print(\"No Cuda Available\")\n",
        "device"
      ],
      "metadata": {
        "colab": {
          "base_uri": "https://localhost:8080/"
        },
        "id": "SllS-9MhBiRb",
        "outputId": "da898cb1-eeea-4381-9de2-a77d92010bb8"
      },
      "execution_count": null,
      "outputs": [
        {
          "output_type": "execute_result",
          "data": {
            "text/plain": [
              "device(type='cuda', index=0)"
            ]
          },
          "metadata": {},
          "execution_count": 5
        }
      ]
    },
    {
      "cell_type": "code",
      "source": [
        "from guided_backprop import get_gradients, save_gradient_images, calculate_score"
      ],
      "metadata": {
        "id": "mgFiQCMGa6PL"
      },
      "execution_count": null,
      "outputs": []
    },
    {
      "cell_type": "code",
      "source": [
        "# network parameters\n",
        "BATCH_SIZE = 64\n",
        "EPOCHS = 100\n",
        "LEARNING_RATE = 0.01"
      ],
      "metadata": {
        "id": "D3cxfUw5-8lL"
      },
      "execution_count": null,
      "outputs": []
    },
    {
      "cell_type": "code",
      "source": [
        "T = torchvision.transforms.Compose([\n",
        "    torchvision.transforms.ToTensor()\n",
        "])\n",
        "train_data = torchvision.datasets.MNIST('mnist_data', train=True, download=True, transform=T)\n",
        "test_data = torchvision.datasets.MNIST('mnist_data', train=False, download=True, transform=T)\n",
        "\n",
        "train_loader = torch.utils.data.DataLoader(train_data, batch_size = BATCH_SIZE)\n",
        "test_loader = torch.utils.data.DataLoader(test_data, batch_size = BATCH_SIZE)"
      ],
      "metadata": {
        "id": "XZKoEmkiBPEN"
      },
      "execution_count": null,
      "outputs": []
    },
    {
      "cell_type": "code",
      "source": [
        "# class LeNet(nn.Module):\n",
        "#     def __init__(self):\n",
        "#         super(LeNet, self).__init__()\n",
        "#         self.conv1 = nn.Conv2d(1, 6, 5, padding=2),\n",
        "#         self.act1 = nn.ReLU(),\n",
        "#         self.avp1 = nn.AvgPool2d(2, stride=2),\n",
        "#         self.cov2 = nn.Conv2d(6, 16, 5, padding=0),\n",
        "#         self.act2 = nn.ReLU(),\n",
        "#         self.avp2 = nn.AvgPool2d(2, stride=2),\n",
        "#         self.flatten = nn.Flatten(),\n",
        "#         self.f1 = nn.Linear(400, 120),\n",
        "#         self.act3 = nn.ReLU(),\n",
        "#         self.f2 = nn.Linear(120, 84),\n",
        "#         self.act4 = nn.ReLU(),\n",
        "\n",
        "#         self.fc = nn.Linear(84, 10)\n",
        "\n",
        "#     def forward(self, x):\n",
        "#         x = self.conv1(x)\n",
        "#         x = self.act1(x)\n",
        "#         x = self.avp1(x) \n",
        "#         x = self.cov2(x)\n",
        "#         x = self.act2(x)\n",
        "#         x = self.avp2(x)\n",
        "#         x = self.flatten(x)\n",
        "#         x = self.f1(x)\n",
        "#         x = self.act3(x)\n",
        "#         x = self.f2(x)\n",
        "#         x = self.act4(x)\n",
        "#         x = self.fc(x)\n",
        "\n",
        "#         return x\n",
        "    \n",
        "#     def return_first_layer(self, x):\n",
        "#         x = self.conv1(x)\n",
        "#         return x"
      ],
      "metadata": {
        "id": "8nf-2AnuBTX8"
      },
      "execution_count": null,
      "outputs": []
    },
    {
      "cell_type": "code",
      "source": [
        "def create_lenet():\n",
        "    model = nn.Sequential(\n",
        "        nn.Conv2d(1, 6, 5, padding=2),\n",
        "        nn.ReLU(),\n",
        "        nn.AvgPool2d(2, stride=2),\n",
        "        nn.Conv2d(6, 16, 5, padding=0),\n",
        "        nn.ReLU(),\n",
        "        nn.AvgPool2d(2, stride=2),\n",
        "        nn.Flatten(),\n",
        "        nn.Linear(400, 120),\n",
        "        nn.ReLU(),\n",
        "        nn.Linear(120, 84),\n",
        "        nn.ReLU(),\n",
        "        nn.Linear(84, 10)\n",
        "    )\n",
        "    return model"
      ],
      "metadata": {
        "id": "GU3vsJbQNk_R"
      },
      "execution_count": null,
      "outputs": []
    },
    {
      "cell_type": "code",
      "source": [
        "# def validate(model, data):\n",
        "#     total = 0\n",
        "#     correct = 0\n",
        "#     for i, (images, labels) in enumerate(data):\n",
        "#         images = images.cuda()\n",
        "#         x = model(images)\n",
        "#         value, pred = torch.max(x,1)\n",
        "#         pred = pred.data.cpu()\n",
        "#         total += x.size(0)\n",
        "#         correct += torch.sum(pred == labels)\n",
        "#     return correct*100./total\n"
      ],
      "metadata": {
        "id": "MQVTb5HyBW1m"
      },
      "execution_count": null,
      "outputs": []
    },
    {
      "cell_type": "code",
      "source": [
        "def train(numb_epoch=3, lr=1e-3, device=\"cpu\"):\n",
        "    accuracies = []\n",
        "    cnn = create_lenet().to(device)\n",
        "    cec = nn.CrossEntropyLoss()\n",
        "    optimizer = optim.Adam(cnn.parameters(), lr=lr)\n",
        "    max_accuracy = 0\n",
        "    for epoch in range(numb_epoch):\n",
        "        for i, (images, labels) in enumerate(train_dl):\n",
        "            images = images.to(device)\n",
        "            labels = labels.to(device)\n",
        "            optimizer.zero_grad()\n",
        "            pred = cnn(images)\n",
        "            loss = cec(pred, labels)\n",
        "            loss.backward()\n",
        "            optimizer.step()\n",
        "        # accuracy = float(validate(cnn, val_dl))\n",
        "        # accuracies.append(accuracy)\n",
        "        # if accuracy > max_accuracy:\n",
        "        #     best_model = copy.deepcopy(cnn)\n",
        "        #     max_accuracy = accuracy\n",
        "        #     print(\"Saving Best Model with Accuracy: \", accuracy)\n",
        "        print('Epoch:', epoch+1, \"Accuracy :\", accuracy, '%')\n",
        "    plt.plot(accuracies)\n",
        "    return best_model"
      ],
      "metadata": {
        "id": "tS1foL9UBZDH"
      },
      "execution_count": null,
      "outputs": []
    },
    {
      "cell_type": "code",
      "source": [
        "# I have pretrained model, so don't have to run this, can load pretrained model\n",
        "# but frankly this won't take much time anyways\n",
        "lenet = train(50, device=device)"
      ],
      "metadata": {
        "id": "7K4uJLLqBf6d"
      },
      "execution_count": null,
      "outputs": []
    },
    {
      "cell_type": "code",
      "source": [
        "torch.save(lenet.state_dict(), \"/content/drive/MyDrive/LeNet/lenet-non-val.pth\")"
      ],
      "metadata": {
        "id": "atiFJSmWBwvu"
      },
      "execution_count": null,
      "outputs": []
    },
    {
      "cell_type": "markdown",
      "source": [
        "# 1. Pre-trained LeNet Model (Naturally trained)"
      ],
      "metadata": {
        "id": "iA5tLYNzEWWJ"
      }
    },
    {
      "cell_type": "markdown",
      "source": [
        "## Load pre-trained model"
      ],
      "metadata": {
        "id": "YgcKaeKRhwWx"
      }
    },
    {
      "cell_type": "code",
      "source": [
        "lenet = create_lenet().to(device)\n",
        "lenet.load_state_dict(torch.load(\"/content/drive/MyDrive/LeNet/lenet-non-val.pth\"))\n",
        "lenet.eval()"
      ],
      "metadata": {
        "colab": {
          "base_uri": "https://localhost:8080/"
        },
        "id": "JvhfYd9NUgNC",
        "outputId": "165d9ea7-5eec-445c-cee7-9fd23dd76f1b"
      },
      "execution_count": null,
      "outputs": [
        {
          "output_type": "execute_result",
          "data": {
            "text/plain": [
              "Sequential(\n",
              "  (0): Conv2d(1, 6, kernel_size=(5, 5), stride=(1, 1), padding=(2, 2))\n",
              "  (1): ReLU()\n",
              "  (2): AvgPool2d(kernel_size=2, stride=2, padding=0)\n",
              "  (3): Conv2d(6, 16, kernel_size=(5, 5), stride=(1, 1))\n",
              "  (4): ReLU()\n",
              "  (5): AvgPool2d(kernel_size=2, stride=2, padding=0)\n",
              "  (6): Flatten(start_dim=1, end_dim=-1)\n",
              "  (7): Linear(in_features=400, out_features=120, bias=True)\n",
              "  (8): ReLU()\n",
              "  (9): Linear(in_features=120, out_features=84, bias=True)\n",
              "  (10): ReLU()\n",
              "  (11): Linear(in_features=84, out_features=10, bias=True)\n",
              ")"
            ]
          },
          "metadata": {},
          "execution_count": 72
        }
      ]
    },
    {
      "cell_type": "markdown",
      "source": [
        "## Map of natural datapoints"
      ],
      "metadata": {
        "id": "L_WJlXaVUK_6"
      }
    },
    {
      "cell_type": "code",
      "source": [
        "map_data_loader = torch.utils.data.DataLoader(dataset=test_data,\n",
        "                                          batch_size=1, \n",
        "                                          shuffle=False)"
      ],
      "metadata": {
        "id": "_EFPWYwWEQAu"
      },
      "execution_count": null,
      "outputs": []
    },
    {
      "cell_type": "markdown",
      "source": [
        "Change the number in `itertools.islice()` to select different images. Because the code for guided backpropagation modifies some configurations of the model, you need to reload lenet model if you want to run the below experiment again with different images."
      ],
      "metadata": {
        "id": "JhRgHh4_w4tZ"
      }
    },
    {
      "cell_type": "code",
      "source": [
        "image, labels = next(itertools.islice(map_data_loader, 1, None))\n",
        "npimg = image.numpy()\n",
        "print(npimg.shape)\n",
        "fig = plt.figure(figsize = (5, 15))\n",
        "plt.imshow(npimg.reshape(28,28))\n",
        "# plt.title('title')\n",
        "plt.show()"
      ],
      "metadata": {
        "colab": {
          "base_uri": "https://localhost:8080/",
          "height": 344
        },
        "id": "B-NqSZVi4U2r",
        "outputId": "0e2248fa-bd1a-4ef4-f455-b1f5e1420d71"
      },
      "execution_count": null,
      "outputs": [
        {
          "output_type": "stream",
          "name": "stdout",
          "text": [
            "(1, 1, 28, 28)\n"
          ]
        },
        {
          "output_type": "display_data",
          "data": {
            "image/png": "[encoded data removed]",
            "text/plain": [
              "<Figure size 360x1080 with 1 Axes>"
            ]
          },
          "metadata": {
            "needs_background": "light"
          }
        }
      ]
    },
    {
      "cell_type": "code",
      "source": [
        "# Set the device for the image\n",
        "image = image.to(device)\n",
        "# Set the requires_grad_ to the image for retrieving gradients\n",
        "image.requires_grad_()\n"
      ],
      "metadata": {
        "colab": {
          "base_uri": "https://localhost:8080/"
        },
        "id": "hINsGn96FRA4",
        "outputId": "1fde3ddc-4824-49ef-abd2-3df27fb6ead0"
      },
      "execution_count": null,
      "outputs": [
        {
          "output_type": "execute_result",
          "data": {
            "text/plain": [
              "tensor([[[[0.0000, 0.0000, 0.0000, 0.0000, 0.0000, 0.0000, 0.0000, 0.0000,\n",
              "           0.0000, 0.0000, 0.0000, 0.0000, 0.0000, 0.0000, 0.0000, 0.0000,\n",
              "           0.0000, 0.0000, 0.0000, 0.0000, 0.0000, 0.0000, 0.0000, 0.0000,\n",
              "           0.0000, 0.0000, 0.0000, 0.0000],\n",
              "          [0.0000, 0.0000, 0.0000, 0.0000, 0.0000, 0.0000, 0.0000, 0.0000,\n",
              "           0.0000, 0.0000, 0.0000, 0.0000, 0.0000, 0.0000, 0.0000, 0.0000,\n",
              "           0.0000, 0.0000, 0.0000, 0.0000, 0.0000, 0.0000, 0.0000, 0.0000,\n",
              "           0.0000, 0.0000, 0.0000, 0.0000],\n",
              "          [0.0000, 0.0000, 0.0000, 0.0000, 0.0000, 0.0000, 0.0000, 0.0000,\n",
              "           0.0000, 0.0000, 0.0000, 0.0000, 0.0000, 0.0000, 0.0000, 0.0000,\n",
              "           0.0000, 0.0000, 0.0000, 0.0000, 0.0000, 0.0000, 0.0000, 0.0000,\n",
              "           0.0000, 0.0000, 0.0000, 0.0000],\n",
              "          [0.0000, 0.0000, 0.0000, 0.0000, 0.0000, 0.0000, 0.0000, 0.0000,\n",
              "           0.0000, 0.0000, 0.4549, 0.4902, 0.6706, 1.0000, 1.0000, 0.5882,\n",
              "           0.3647, 0.0000, 0.0000, 0.0000, 0.0000, 0.0000, 0.0000, 0.0000,\n",
              "           0.0000, 0.0000, 0.0000, 0.0000],\n",
              "          [0.0000, 0.0000, 0.0000, 0.0000, 0.0000, 0.0000, 0.0000, 0.0000,\n",
              "           0.0000, 0.6627, 0.9922, 0.9922, 0.9922, 0.9922, 0.9922, 0.9922,\n",
              "           0.8549, 0.1176, 0.0000, 0.0000, 0.0000, 0.0000, 0.0000, 0.0000,\n",
              "           0.0000, 0.0000, 0.0000, 0.0000],\n",
              "          [0.0000, 0.0000, 0.0000, 0.0000, 0.0000, 0.0000, 0.0000, 0.0000,\n",
              "           0.6627, 0.9922, 0.9922, 0.9922, 0.8353, 0.5569, 0.6902, 0.9922,\n",
              "           0.9922, 0.4784, 0.0000, 0.0000, 0.0000, 0.0000, 0.0000, 0.0000,\n",
              "           0.0000, 0.0000, 0.0000, 0.0000],\n",
              "          [0.0000, 0.0000, 0.0000, 0.0000, 0.0000, 0.0000, 0.0000, 0.2039,\n",
              "           0.9804, 0.9922, 0.8235, 0.1255, 0.0471, 0.0000, 0.0235, 0.8078,\n",
              "           0.9922, 0.5490, 0.0000, 0.0000, 0.0000, 0.0000, 0.0000, 0.0000,\n",
              "           0.0000, 0.0000, 0.0000, 0.0000],\n",
              "          [0.0000, 0.0000, 0.0000, 0.0000, 0.0000, 0.0000, 0.0000, 0.3020,\n",
              "           0.9843, 0.8235, 0.0980, 0.0000, 0.0000, 0.0000, 0.4784, 0.9725,\n",
              "           0.9922, 0.2549, 0.0000, 0.0000, 0.0000, 0.0000, 0.0000, 0.0000,\n",
              "           0.0000, 0.0000, 0.0000, 0.0000],\n",
              "          [0.0000, 0.0000, 0.0000, 0.0000, 0.0000, 0.0000, 0.0000, 0.0000,\n",
              "           0.1216, 0.0706, 0.0000, 0.0000, 0.0000, 0.0000, 0.8196, 0.9922,\n",
              "           0.9922, 0.2549, 0.0000, 0.0000, 0.0000, 0.0000, 0.0000, 0.0000,\n",
              "           0.0000, 0.0000, 0.0000, 0.0000],\n",
              "          [0.0000, 0.0000, 0.0000, 0.0000, 0.0000, 0.0000, 0.0000, 0.0000,\n",
              "           0.0000, 0.0000, 0.0000, 0.0000, 0.0000, 0.4588, 0.9686, 0.9922,\n",
              "           0.7765, 0.0392, 0.0000, 0.0000, 0.0000, 0.0000, 0.0000, 0.0000,\n",
              "           0.0000, 0.0000, 0.0000, 0.0000],\n",
              "          [0.0000, 0.0000, 0.0000, 0.0000, 0.0000, 0.0000, 0.0000, 0.0000,\n",
              "           0.0000, 0.0000, 0.0000, 0.0000, 0.2980, 0.9686, 0.9922, 0.9059,\n",
              "           0.2471, 0.0000, 0.0000, 0.0000, 0.0000, 0.0000, 0.0000, 0.0000,\n",
              "           0.0000, 0.0000, 0.0000, 0.0000],\n",
              "          [0.0000, 0.0000, 0.0000, 0.0000, 0.0000, 0.0000, 0.0000, 0.0000,\n",
              "           0.0000, 0.0000, 0.0000, 0.0000, 0.5020, 0.9922, 0.9922, 0.5647,\n",
              "           0.0000, 0.0000, 0.0000, 0.0000, 0.0000, 0.0000, 0.0000, 0.0000,\n",
              "           0.0000, 0.0000, 0.0000, 0.0000],\n",
              "          [0.0000, 0.0000, 0.0000, 0.0000, 0.0000, 0.0000, 0.0000, 0.0000,\n",
              "           0.0000, 0.0000, 0.0000, 0.6902, 0.9647, 0.9922, 0.6235, 0.0471,\n",
              "           0.0000, 0.0000, 0.0000, 0.0000, 0.0000, 0.0000, 0.0000, 0.0000,\n",
              "           0.0000, 0.0000, 0.0000, 0.0000],\n",
              "          [0.0000, 0.0000, 0.0000, 0.0000, 0.0000, 0.0000, 0.0000, 0.0000,\n",
              "           0.0000, 0.0000, 0.0980, 0.9176, 0.9922, 0.9137, 0.1373, 0.0000,\n",
              "           0.0000, 0.0000, 0.0000, 0.0000, 0.0000, 0.0000, 0.0000, 0.0000,\n",
              "           0.0000, 0.0000, 0.0000, 0.0000],\n",
              "          [0.0000, 0.0000, 0.0000, 0.0000, 0.0000, 0.0000, 0.0000, 0.0000,\n",
              "           0.0000, 0.0000, 0.7765, 0.9922, 0.9922, 0.5529, 0.0000, 0.0000,\n",
              "           0.0000, 0.0000, 0.0000, 0.0000, 0.0000, 0.0000, 0.0000, 0.0000,\n",
              "           0.0000, 0.0000, 0.0000, 0.0000],\n",
              "          [0.0000, 0.0000, 0.0000, 0.0000, 0.0000, 0.0000, 0.0000, 0.0000,\n",
              "           0.0000, 0.3059, 0.9725, 0.9922, 0.7412, 0.0471, 0.0000, 0.0000,\n",
              "           0.0000, 0.0000, 0.0000, 0.0000, 0.0000, 0.0000, 0.0000, 0.0000,\n",
              "           0.0000, 0.0000, 0.0000, 0.0000],\n",
              "          [0.0000, 0.0000, 0.0000, 0.0000, 0.0000, 0.0000, 0.0000, 0.0000,\n",
              "           0.0745, 0.7843, 0.9922, 0.9922, 0.5529, 0.0000, 0.0000, 0.0000,\n",
              "           0.0000, 0.0000, 0.0000, 0.0000, 0.0000, 0.0000, 0.0000, 0.0000,\n",
              "           0.0000, 0.0000, 0.0000, 0.0000],\n",
              "          [0.0000, 0.0000, 0.0000, 0.0000, 0.0000, 0.0000, 0.0000, 0.0000,\n",
              "           0.5255, 0.9922, 0.9922, 0.6784, 0.0471, 0.0000, 0.0000, 0.0000,\n",
              "           0.0000, 0.0000, 0.0000, 0.0000, 0.0000, 0.0000, 0.0000, 0.0000,\n",
              "           0.0000, 0.0000, 0.0000, 0.0000],\n",
              "          [0.0000, 0.0000, 0.0000, 0.0000, 0.0000, 0.0000, 0.0000, 0.0000,\n",
              "           0.9725, 0.9922, 0.9922, 0.0980, 0.0000, 0.0000, 0.0000, 0.0000,\n",
              "           0.0000, 0.0000, 0.0000, 0.0000, 0.0000, 0.0000, 0.0000, 0.0000,\n",
              "           0.0000, 0.0000, 0.0000, 0.0000],\n",
              "          [0.0000, 0.0000, 0.0000, 0.0000, 0.0000, 0.0000, 0.0000, 0.0000,\n",
              "           0.9725, 0.9922, 0.9922, 0.1686, 0.0784, 0.0784, 0.0784, 0.0784,\n",
              "           0.0196, 0.0000, 0.0196, 0.0784, 0.0784, 0.1451, 0.5882, 0.5882,\n",
              "           0.5882, 0.5765, 0.0392, 0.0000],\n",
              "          [0.0000, 0.0000, 0.0000, 0.0000, 0.0000, 0.0000, 0.0000, 0.0000,\n",
              "           0.9725, 0.9922, 0.9922, 0.9922, 0.9922, 0.9922, 0.9922, 0.9922,\n",
              "           0.6588, 0.5608, 0.6510, 0.9922, 0.9922, 0.9922, 0.9922, 0.9922,\n",
              "           0.9922, 0.9922, 0.4824, 0.0000],\n",
              "          [0.0000, 0.0000, 0.0000, 0.0000, 0.0000, 0.0000, 0.0000, 0.0000,\n",
              "           0.6824, 0.9922, 0.9922, 0.9922, 0.9922, 0.9922, 0.9922, 0.9922,\n",
              "           0.9922, 0.9922, 0.9922, 0.9922, 0.9765, 0.9686, 0.9686, 0.6627,\n",
              "           0.4588, 0.4588, 0.2235, 0.0000],\n",
              "          [0.0000, 0.0000, 0.0000, 0.0000, 0.0000, 0.0000, 0.0000, 0.0000,\n",
              "           0.0000, 0.4627, 0.4824, 0.4824, 0.4824, 0.6510, 0.9922, 0.9922,\n",
              "           0.9922, 0.6078, 0.4824, 0.4824, 0.1608, 0.0000, 0.0000, 0.0000,\n",
              "           0.0000, 0.0000, 0.0000, 0.0000],\n",
              "          [0.0000, 0.0000, 0.0000, 0.0000, 0.0000, 0.0000, 0.0000, 0.0000,\n",
              "           0.0000, 0.0000, 0.0000, 0.0000, 0.0000, 0.0000, 0.0000, 0.0000,\n",
              "           0.0000, 0.0000, 0.0000, 0.0000, 0.0000, 0.0000, 0.0000, 0.0000,\n",
              "           0.0000, 0.0000, 0.0000, 0.0000],\n",
              "          [0.0000, 0.0000, 0.0000, 0.0000, 0.0000, 0.0000, 0.0000, 0.0000,\n",
              "           0.0000, 0.0000, 0.0000, 0.0000, 0.0000, 0.0000, 0.0000, 0.0000,\n",
              "           0.0000, 0.0000, 0.0000, 0.0000, 0.0000, 0.0000, 0.0000, 0.0000,\n",
              "           0.0000, 0.0000, 0.0000, 0.0000],\n",
              "          [0.0000, 0.0000, 0.0000, 0.0000, 0.0000, 0.0000, 0.0000, 0.0000,\n",
              "           0.0000, 0.0000, 0.0000, 0.0000, 0.0000, 0.0000, 0.0000, 0.0000,\n",
              "           0.0000, 0.0000, 0.0000, 0.0000, 0.0000, 0.0000, 0.0000, 0.0000,\n",
              "           0.0000, 0.0000, 0.0000, 0.0000],\n",
              "          [0.0000, 0.0000, 0.0000, 0.0000, 0.0000, 0.0000, 0.0000, 0.0000,\n",
              "           0.0000, 0.0000, 0.0000, 0.0000, 0.0000, 0.0000, 0.0000, 0.0000,\n",
              "           0.0000, 0.0000, 0.0000, 0.0000, 0.0000, 0.0000, 0.0000, 0.0000,\n",
              "           0.0000, 0.0000, 0.0000, 0.0000],\n",
              "          [0.0000, 0.0000, 0.0000, 0.0000, 0.0000, 0.0000, 0.0000, 0.0000,\n",
              "           0.0000, 0.0000, 0.0000, 0.0000, 0.0000, 0.0000, 0.0000, 0.0000,\n",
              "           0.0000, 0.0000, 0.0000, 0.0000, 0.0000, 0.0000, 0.0000, 0.0000,\n",
              "           0.0000, 0.0000, 0.0000, 0.0000]]]], device='cuda:0',\n",
              "       requires_grad=True)"
            ]
          },
          "metadata": {},
          "execution_count": 22
        }
      ]
    },
    {
      "cell_type": "code",
      "source": [
        "# Retrieve output from the image\n",
        "output = lenet(image)\n",
        "\n",
        "# Catch the output\n",
        "output_idx = output.argmax()\n",
        "output_max = output[0, output_idx]\n",
        "\n",
        "# Do backpropagation to get the derivative of the output based on the image\n",
        "output_max.backward()\n",
        "\n",
        "_, predicted = torch.max(output.data, 1)\n",
        "predicted"
      ],
      "metadata": {
        "id": "RvGV7f6ZFULO",
        "colab": {
          "base_uri": "https://localhost:8080/"
        },
        "outputId": "522bb68d-e204-49e4-d1e2-bac0f156994b"
      },
      "execution_count": null,
      "outputs": [
        {
          "output_type": "execute_result",
          "data": {
            "text/plain": [
              "tensor([2], device='cuda:0')"
            ]
          },
          "metadata": {},
          "execution_count": 23
        }
      ]
    },
    {
      "cell_type": "code",
      "source": [
        "guided_grads = get_gradients(lenet.cpu(), image.cpu(), labels)\n",
        "guided_grads = np.abs(guided_grads)\n",
        "calculate_score(image.cpu().detach(), guided_grads)"
      ],
      "metadata": {
        "colab": {
          "base_uri": "https://localhost:8080/"
        },
        "id": "CxX0upDqdA2d",
        "outputId": "65530b7d-bfc1-4b3a-90aa-3f0b16d4a43a"
      },
      "execution_count": null,
      "outputs": [
        {
          "output_type": "stream",
          "name": "stderr",
          "text": [
            "/usr/local/lib/python3.7/dist-packages/torch/nn/modules/module.py:1025: UserWarning: Using a non-full backward hook when the forward contains multiple autograd Nodes is deprecated and will be removed in future versions. This hook will be missing some grad_input. Please use register_full_backward_hook to get the documented behavior.\n",
            "  warnings.warn(\"Using a non-full backward hook when the forward contains multiple autograd Nodes \"\n"
          ]
        },
        {
          "output_type": "execute_result",
          "data": {
            "text/plain": [
              "63.86181"
            ]
          },
          "metadata": {},
          "execution_count": 24
        }
      ]
    },
    {
      "cell_type": "code",
      "source": [
        "# Retireve the saliency map and also pick the maximum value from channels on each pixel.\n",
        "# In this case, we look at dim=1. Recall the shape (batch_size, channel, width, height)\n",
        "# saliency, _ = torch.max(image.grad.data.abs(), dim=1) \n",
        "# saliency = saliency.reshape(32, 32)\n",
        "\n",
        "# Reshape the image\n",
        "# image = image.reshape(-1, 32, 32)\n",
        "\n",
        "# Visualize the image and the saliency map\n",
        "fig, ax = plt.subplots(1, 2)\n",
        "ax[0].imshow(image.cpu().detach().numpy().reshape(28,28), cmap='gray')\n",
        "ax[0].axis('off')\n",
        "ax[1].imshow(guided_grads.reshape(28,28), cmap='gray')\n",
        "ax[1].axis('off')\n",
        "plt.tight_layout()\n",
        "fig.suptitle('The Image and Its Saliency Map')\n",
        "plt.show()"
      ],
      "metadata": {
        "colab": {
          "base_uri": "https://localhost:8080/",
          "height": 269
        },
        "id": "IPgsirB7FVMe",
        "outputId": "b71cc872-7c0b-4768-f918-1566a6123810"
      },
      "execution_count": null,
      "outputs": [
        {
          "output_type": "display_data",
          "data": {
            "image/png": "[encoded data removed]",
            "text/plain": [
              "<Figure size 432x288 with 2 Axes>"
            ]
          },
          "metadata": {
            "needs_background": "light"
          }
        }
      ]
    },
    {
      "cell_type": "code",
      "source": [
        "save_gradient_images(guided_grads, 'natural-origin-2')"
      ],
      "metadata": {
        "id": "VcRnzN0u5kDV"
      },
      "execution_count": null,
      "outputs": []
    },
    {
      "cell_type": "markdown",
      "source": [
        "## Robustness of Natural LeNet"
      ],
      "metadata": {
        "id": "iLfbzmM7VNq6"
      }
    },
    {
      "cell_type": "code",
      "source": [
        "lenet = lenet.to(device)"
      ],
      "metadata": {
        "id": "cArH0VRGgxX2"
      },
      "execution_count": null,
      "outputs": []
    },
    {
      "cell_type": "code",
      "source": [
        "from torchattacks import PGD, FGSM"
      ],
      "metadata": {
        "id": "uxnZq-wkDfZW"
      },
      "execution_count": null,
      "outputs": []
    },
    {
      "cell_type": "code",
      "source": [
        "# model.eval()\n",
        "\n",
        "correct = 0\n",
        "total = 0\n",
        "\n",
        "fgsm = FGSM(lenet, eps=0.3)\n",
        "\n",
        "for images, labels in test_loader:\n",
        "    \n",
        "    images = fgsm(images, labels).cuda()\n",
        "    outputs = lenet(images)\n",
        "    \n",
        "    _, predicted = torch.max(outputs.data, 1)\n",
        "    \n",
        "    total += labels.size(0)\n",
        "    correct += (predicted == labels.cuda()).sum()\n",
        "    \n",
        "print('Robust accuracy under FGSM attack: %.2f %%' % (100 * float(correct) / total))"
      ],
      "metadata": {
        "colab": {
          "base_uri": "https://localhost:8080/"
        },
        "id": "zQMRh7duVQU1",
        "outputId": "f8a4b438-3014-4478-95fd-fd42313c1cbf"
      },
      "execution_count": null,
      "outputs": [
        {
          "output_type": "stream",
          "name": "stdout",
          "text": [
            "Robust accuracy under FGSM attack: 12.69 %\n"
          ]
        }
      ]
    },
    {
      "cell_type": "code",
      "source": [
        "# model.eval()\n",
        "\n",
        "correct = 0\n",
        "total = 0\n",
        "\n",
        "pgd = PGD(lenet, eps=0.3, alpha=0.1, steps=7)\n",
        "\n",
        "\n",
        "for images, labels in test_loader:\n",
        "    \n",
        "    images = pgd(images, labels).cuda()\n",
        "    outputs = lenet(images)\n",
        "    \n",
        "    _, predicted = torch.max(outputs.data, 1)\n",
        "    \n",
        "    total += labels.size(0)\n",
        "    correct += (predicted == labels.cuda()).sum()\n",
        "    \n",
        "print('Robust accuracy under PGD attack: %.2f %%' % (100 * float(correct) / total))"
      ],
      "metadata": {
        "colab": {
          "base_uri": "https://localhost:8080/"
        },
        "id": "iCCia6I7gw-e",
        "outputId": "e414a448-a1e4-457d-bd26-d1ce26190b9e"
      },
      "execution_count": null,
      "outputs": [
        {
          "output_type": "stream",
          "name": "stdout",
          "text": [
            "Robust accuracy under PGD attack: 0.00 %\n"
          ]
        }
      ]
    },
    {
      "cell_type": "markdown",
      "source": [
        "## Map of adversaries"
      ],
      "metadata": {
        "id": "myMCLXTBUB1y"
      }
    },
    {
      "cell_type": "markdown",
      "source": [
        "### Attack and save adversaries so that we can load and plot images easier later - FGSM"
      ],
      "metadata": {
        "id": "Ew8V7BRqdlkM"
      }
    },
    {
      "cell_type": "code",
      "source": [
        "atk = FGSM(lenet, eps=0.3)\n",
        "# atk.set_return_type('int') # Save as integer.\n",
        "atk.save(data_loader=test_loader, save_path=\"/content/drive/MyDrive/LeNet/mnist10_fgsm.pt\", verbose=True)"
      ],
      "metadata": {
        "colab": {
          "base_uri": "https://localhost:8080/"
        },
        "id": "foFfU4m6RaDw",
        "outputId": "1a8371b8-85c2-4d96-fca7-9868dfc87042"
      },
      "execution_count": null,
      "outputs": [
        {
          "output_type": "stream",
          "name": "stdout",
          "text": [
            "- Save progress: 100.00 % / Robust accuracy: 12.69 % / L2: 6.20796 (0.004 it/s) \t\n",
            "- Save complete!\n"
          ]
        }
      ]
    },
    {
      "cell_type": "code",
      "source": [
        "from torch.utils.data import DataLoader, TensorDataset\n"
      ],
      "metadata": {
        "id": "Kn8-Z3svS_M6"
      },
      "execution_count": null,
      "outputs": []
    },
    {
      "cell_type": "code",
      "source": [
        "adv_images, adv_labels = torch.load(\"/content/drive/MyDrive/LeNet/mnist10_fgsm.pt\")\n",
        "adv_data = TensorDataset(adv_images.float()/255, adv_labels)\n",
        "adv_loader = DataLoader(adv_data, batch_size=1, shuffle=False)"
      ],
      "metadata": {
        "id": "TYzkL6-cRlQT"
      },
      "execution_count": null,
      "outputs": []
    },
    {
      "cell_type": "markdown",
      "source": [
        "### Plotting!"
      ],
      "metadata": {
        "id": "jo-3gKk0idys"
      }
    },
    {
      "cell_type": "markdown",
      "source": [
        "Change the number in `itertools.islice()` to select different images. Because the code for guided backpropagation modifies some configurations of the model, you need to reload lenet model if you want to run the below experiment again with different images."
      ],
      "metadata": {
        "id": "lql_gX3FytmZ"
      }
    },
    {
      "cell_type": "code",
      "source": [
        "image, labels = next(itertools.islice(adv_loader, 1, None))\n",
        "image = (image - torch.min(image)) / (torch.max(image) - torch.min(image))\n",
        "npimg = image.numpy()\n",
        "print(npimg.shape)\n",
        "fig = plt.figure(figsize = (5, 15))\n",
        "plt.imshow(npimg.reshape(28,28))\n",
        "# plt.title('title')\n",
        "plt.show()"
      ],
      "metadata": {
        "colab": {
          "base_uri": "https://localhost:8080/",
          "height": 344
        },
        "id": "j3Im6GnFUQk_",
        "outputId": "3177464c-65c2-4f55-f9a5-9597bb0bac5f"
      },
      "execution_count": null,
      "outputs": [
        {
          "output_type": "stream",
          "name": "stdout",
          "text": [
            "(1, 1, 28, 28)\n"
          ]
        },
        {
          "output_type": "display_data",
          "data": {
            "image/png": "[encoded data removed]",
            "text/plain": [
              "<Figure size 360x1080 with 1 Axes>"
            ]
          },
          "metadata": {
            "needs_background": "light"
          }
        }
      ]
    },
    {
      "cell_type": "code",
      "source": [
        "# Set the device for the image\n",
        "image = image.to(device)\n",
        "# Set the requires_grad_ to the image for retrieving gradients\n",
        "image.requires_grad_()\n",
        "# Retrieve output from the image\n",
        "output = lenet(image)\n",
        "\n",
        "# Catch the output\n",
        "output_idx = output.argmax()\n",
        "output_max = output[0, output_idx]\n",
        "\n",
        "# Do backpropagation to get the derivative of the output based on the image\n",
        "output_max.backward()"
      ],
      "metadata": {
        "id": "op0PcaEeUUrY"
      },
      "execution_count": null,
      "outputs": []
    },
    {
      "cell_type": "code",
      "source": [
        "_, predicted = torch.max(output.data, 1)\n",
        "predicted"
      ],
      "metadata": {
        "colab": {
          "base_uri": "https://localhost:8080/"
        },
        "id": "5D4uAfAYU-mN",
        "outputId": "3958132b-e6a2-489e-9539-cd786e90e686"
      },
      "execution_count": null,
      "outputs": [
        {
          "output_type": "execute_result",
          "data": {
            "text/plain": [
              "tensor([0], device='cuda:0')"
            ]
          },
          "metadata": {},
          "execution_count": 75
        }
      ]
    },
    {
      "cell_type": "markdown",
      "source": [
        "Wrong prediction on adversaries!"
      ],
      "metadata": {
        "id": "X4c7BkbAgJ1V"
      }
    },
    {
      "cell_type": "code",
      "source": [
        "guided_grads = get_gradients(lenet.cpu(), image.cpu(), labels)\n",
        "guided_grads = np.abs(guided_grads)\n",
        "calculate_score(image.cpu().detach(), guided_grads)"
      ],
      "metadata": {
        "colab": {
          "base_uri": "https://localhost:8080/"
        },
        "id": "_HSFVfbPjtFE",
        "outputId": "0f6b761b-9895-4205-de34-29419c8c9d59"
      },
      "execution_count": null,
      "outputs": [
        {
          "output_type": "stream",
          "name": "stderr",
          "text": [
            "/usr/local/lib/python3.7/dist-packages/torch/nn/modules/module.py:1025: UserWarning: Using a non-full backward hook when the forward contains multiple autograd Nodes is deprecated and will be removed in future versions. This hook will be missing some grad_input. Please use register_full_backward_hook to get the documented behavior.\n",
            "  warnings.warn(\"Using a non-full backward hook when the forward contains multiple autograd Nodes \"\n"
          ]
        },
        {
          "output_type": "execute_result",
          "data": {
            "text/plain": [
              "36.582542"
            ]
          },
          "metadata": {},
          "execution_count": 76
        }
      ]
    },
    {
      "cell_type": "code",
      "source": [
        "# Retireve the saliency map and also pick the maximum value from channels on each pixel.\n",
        "# In this case, we look at dim=1. Recall the shape (batch_size, channel, width, height)\n",
        "# saliency, _ = torch.max(image.grad.data.abs(), dim=1) \n",
        "# saliency = saliency.reshape(32, 32)\n",
        "\n",
        "# Reshape the image\n",
        "# image = image.reshape(-1, 32, 32)\n",
        "\n",
        "# Visualize the image and the saliency map\n",
        "fig, ax = plt.subplots(1, 2)\n",
        "ax[0].imshow(image.cpu().detach().numpy().reshape(28,28), cmap='gray')\n",
        "ax[0].axis('off')\n",
        "ax[1].imshow(guided_grads.reshape(28,28), cmap='gray')\n",
        "ax[1].axis('off')\n",
        "plt.tight_layout()\n",
        "fig.suptitle('The Image and Its Saliency Map')\n",
        "plt.show()"
      ],
      "metadata": {
        "colab": {
          "base_uri": "https://localhost:8080/",
          "height": 269
        },
        "id": "RttqI0qEUXje",
        "outputId": "345abab9-b4eb-42bb-840d-5bf3074d05fe"
      },
      "execution_count": null,
      "outputs": [
        {
          "output_type": "display_data",
          "data": {
            "image/png": "[encoded data removed]",
            "text/plain": [
              "<Figure size 432x288 with 2 Axes>"
            ]
          },
          "metadata": {
            "needs_background": "light"
          }
        }
      ]
    },
    {
      "cell_type": "code",
      "source": [
        "save_gradient_images(guided_grads, 'natural-adversarial-2')"
      ],
      "metadata": {
        "id": "108lDZCf9L6H"
      },
      "execution_count": null,
      "outputs": []
    },
    {
      "cell_type": "markdown",
      "source": [
        "# Robust LeNet"
      ],
      "metadata": {
        "id": "NTt2CYuWixpR"
      }
    },
    {
      "cell_type": "markdown",
      "source": [
        "## Adverarially train the model using PGD"
      ],
      "metadata": {
        "id": "7DbXJp2F_wbZ"
      }
    },
    {
      "cell_type": "code",
      "source": [
        "mnist_train = torchvision.datasets.MNIST(root='./data/',\n",
        "                          train=True,\n",
        "                          transform=transforms.ToTensor(),\n",
        "                          download=True)\n",
        "\n",
        "mnist_test = torchvision.datasets.MNIST(root='./data/',\n",
        "                         train=False,\n",
        "                         transform=transforms.ToTensor(),\n",
        "                         download=True)\n",
        "\n",
        "batch_size = 128\n",
        "\n",
        "train_loader  = torch.utils.data.DataLoader(dataset=mnist_train,\n",
        "                                           batch_size=batch_size,\n",
        "                                           shuffle=False)\n",
        "\n",
        "test_loader = torch.utils.data.DataLoader(dataset=mnist_test,\n",
        "                                         batch_size=batch_size,\n",
        "                                         shuffle=False)"
      ],
      "metadata": {
        "id": "D_k1mUwxNHVj"
      },
      "execution_count": null,
      "outputs": []
    },
    {
      "cell_type": "code",
      "source": [
        "model = create_lenet().to(device)"
      ],
      "metadata": {
        "id": "Ktfo0yfOC1Di"
      },
      "execution_count": null,
      "outputs": []
    },
    {
      "cell_type": "code",
      "source": [
        "loss = nn.CrossEntropyLoss()\n",
        "optimizer = optim.Adam(model.parameters(), lr=0.001)"
      ],
      "metadata": {
        "id": "ELEVSDZjDJCe"
      },
      "execution_count": null,
      "outputs": []
    },
    {
      "cell_type": "code",
      "source": [
        "atk = PGD(model, eps=0.3, alpha=0.1, steps=7)\n"
      ],
      "metadata": {
        "id": "kLqRnBtEDUJR"
      },
      "execution_count": null,
      "outputs": []
    },
    {
      "cell_type": "code",
      "source": [
        "num_epochs = 50 # Training 50 epochs takes about 10 min"
      ],
      "metadata": {
        "id": "iWyxZUtQFbtg"
      },
      "execution_count": null,
      "outputs": []
    },
    {
      "cell_type": "code",
      "source": [
        "# I have trained model, load in later cells \n",
        "for epoch in range(num_epochs):\n",
        "\n",
        "    total_batch = len(mnist_train) // batch_size\n",
        "    \n",
        "    for i, (batch_images, batch_labels) in enumerate(train_loader):\n",
        "        X = atk(batch_images, batch_labels).cuda()\n",
        "        Y = batch_labels.cuda()\n",
        "\n",
        "        pre = model(X)\n",
        "        cost = loss(pre, Y)\n",
        "\n",
        "        optimizer.zero_grad()\n",
        "        cost.backward()\n",
        "        optimizer.step()\n",
        "\n",
        "        if (i+1) % 100 == 0:\n",
        "            print('Epoch [%d/%d], lter [%d/%d], Loss: %.4f'\n",
        "                 %(epoch+1, num_epochs, i+1, total_batch, cost.item()))"
      ],
      "metadata": {
        "id": "hykZvPutDU9H"
      },
      "execution_count": null,
      "outputs": []
    },
    {
      "cell_type": "code",
      "source": [
        "torch.save(model.state_dict(), \"/content/drive/MyDrive/LeNet/lenet-pgd-trained.pth\")"
      ],
      "metadata": {
        "id": "NOeHACQmkVCJ"
      },
      "execution_count": null,
      "outputs": []
    },
    {
      "cell_type": "code",
      "source": [
        "model = create_lenet().to(device)\n",
        "model.load_state_dict(torch.load(\"/content/drive/MyDrive/LeNet/lenet-pgd-trained.pth\"))\n",
        "model.eval()"
      ],
      "metadata": {
        "colab": {
          "base_uri": "https://localhost:8080/"
        },
        "id": "z1ef-8YEkqIz",
        "outputId": "e5546e4d-7315-43c5-cb1f-5f183c41e042"
      },
      "execution_count": null,
      "outputs": [
        {
          "output_type": "execute_result",
          "data": {
            "text/plain": [
              "Sequential(\n",
              "  (0): Conv2d(1, 6, kernel_size=(5, 5), stride=(1, 1), padding=(2, 2))\n",
              "  (1): ReLU()\n",
              "  (2): AvgPool2d(kernel_size=2, stride=2, padding=0)\n",
              "  (3): Conv2d(6, 16, kernel_size=(5, 5), stride=(1, 1))\n",
              "  (4): ReLU()\n",
              "  (5): AvgPool2d(kernel_size=2, stride=2, padding=0)\n",
              "  (6): Flatten(start_dim=1, end_dim=-1)\n",
              "  (7): Linear(in_features=400, out_features=120, bias=True)\n",
              "  (8): ReLU()\n",
              "  (9): Linear(in_features=120, out_features=84, bias=True)\n",
              "  (10): ReLU()\n",
              "  (11): Linear(in_features=84, out_features=10, bias=True)\n",
              ")"
            ]
          },
          "metadata": {},
          "execution_count": 86
        }
      ]
    },
    {
      "cell_type": "markdown",
      "source": [
        "## Evaluating natural and robust accuracy"
      ],
      "metadata": {
        "id": "ImWo069di8Hq"
      }
    },
    {
      "cell_type": "markdown",
      "source": [
        "### Natural model - Original inputs"
      ],
      "metadata": {
        "id": "VoPxKzwLzEF4"
      }
    },
    {
      "cell_type": "code",
      "source": [
        "lenet.eval()\n",
        "\n",
        "correct = 0\n",
        "total = 0\n",
        "\n",
        "for images, labels in test_loader:\n",
        "    \n",
        "    images = images.cuda()\n",
        "    outputs = lenet(images)\n",
        "    \n",
        "    _, predicted = torch.max(outputs.data, 1)\n",
        "    \n",
        "    total += labels.size(0)\n",
        "    correct += (predicted == labels.cuda()).sum()\n",
        "    \n",
        "print('Standard accuracy: %.2f %%' % (100 * float(correct) / total))"
      ],
      "metadata": {
        "colab": {
          "base_uri": "https://localhost:8080/"
        },
        "outputId": "406c1c33-127e-421e-f928-65d1645bb1d5",
        "id": "ZNCXxNWh77bh"
      },
      "execution_count": null,
      "outputs": [
        {
          "output_type": "stream",
          "name": "stdout",
          "text": [
            "Standard accuracy: 99.08 %\n"
          ]
        }
      ]
    },
    {
      "cell_type": "markdown",
      "source": [
        "### Robust model - Original inputs"
      ],
      "metadata": {
        "id": "CBvqsG99zP4-"
      }
    },
    {
      "cell_type": "code",
      "source": [
        "model.eval()\n",
        "\n",
        "correct = 0\n",
        "total = 0\n",
        "\n",
        "for images, labels in test_loader:\n",
        "    \n",
        "    images = images.cuda()\n",
        "    outputs = model(images)\n",
        "    \n",
        "    _, predicted = torch.max(outputs.data, 1)\n",
        "    \n",
        "    total += labels.size(0)\n",
        "    correct += (predicted == labels.cuda()).sum()\n",
        "    \n",
        "print('Standard accuracy: %.2f %%' % (100 * float(correct) / total))"
      ],
      "metadata": {
        "colab": {
          "base_uri": "https://localhost:8080/"
        },
        "id": "7LukaBxBFdbm",
        "outputId": "5296d042-2155-445e-d283-ab757bef88a6"
      },
      "execution_count": null,
      "outputs": [
        {
          "output_type": "stream",
          "name": "stdout",
          "text": [
            "Standard accuracy: 98.51 %\n"
          ]
        }
      ]
    },
    {
      "cell_type": "markdown",
      "source": [
        "### Robust model - FGSM inputs"
      ],
      "metadata": {
        "id": "roUJCHFIzTw5"
      }
    },
    {
      "cell_type": "code",
      "source": [
        "model.eval()\n",
        "\n",
        "correct = 0\n",
        "total = 0\n",
        "\n",
        "fgsm = FGSM(model, eps=0.3)\n",
        "\n",
        "for images, labels in test_loader:\n",
        "    \n",
        "    images = fgsm(images, labels).cuda()\n",
        "    outputs = model(images)\n",
        "    \n",
        "    _, predicted = torch.max(outputs.data, 1)\n",
        "    \n",
        "    total += labels.size(0)\n",
        "    correct += (predicted == labels.cuda()).sum()\n",
        "    \n",
        "print('Robust accuracy under FGSM attack: %.2f %%' % (100 * float(correct) / total))"
      ],
      "metadata": {
        "colab": {
          "base_uri": "https://localhost:8080/"
        },
        "id": "cvqVG9UXF-B5",
        "outputId": "43438ca6-466b-4fff-f5f1-17200a200019"
      },
      "execution_count": null,
      "outputs": [
        {
          "output_type": "stream",
          "name": "stdout",
          "text": [
            "Robust accuracy under FGSM attack: 93.92 %\n"
          ]
        }
      ]
    },
    {
      "cell_type": "markdown",
      "source": [
        "### Robust model - PGD inputs"
      ],
      "metadata": {
        "id": "x6s8fbxFzXvt"
      }
    },
    {
      "cell_type": "code",
      "source": [
        "model.eval()\n",
        "\n",
        "correct = 0\n",
        "total = 0\n",
        "\n",
        "pgd = PGD(model, eps=0.3, alpha=0.1, steps=7)\n",
        "\n",
        "for images, labels in test_loader:\n",
        "    \n",
        "    images = pgd(images, labels).cuda()\n",
        "    outputs = model(images)\n",
        "    \n",
        "    _, predicted = torch.max(outputs.data, 1)\n",
        "    \n",
        "    total += labels.size(0)\n",
        "    correct += (predicted == labels.cuda()).sum()\n",
        "    \n",
        "print('Robust accuracy under PGD attack: %.2f %%' % (100 * float(correct) / total))"
      ],
      "metadata": {
        "colab": {
          "base_uri": "https://localhost:8080/"
        },
        "id": "J7NQ-2gOexmv",
        "outputId": "1c41ded8-5def-4f07-906a-e0785edd37ec"
      },
      "execution_count": null,
      "outputs": [
        {
          "output_type": "stream",
          "name": "stdout",
          "text": [
            "Robust accuracy under PGD attack: 91.64 %\n"
          ]
        }
      ]
    },
    {
      "cell_type": "markdown",
      "source": [
        "# Saliency maps of Adversarially Trained model"
      ],
      "metadata": {
        "id": "4Pk2tNe2TdDx"
      }
    },
    {
      "cell_type": "markdown",
      "source": [
        "## Map of natural datapoints"
      ],
      "metadata": {
        "id": "V1gbr4c7TsUJ"
      }
    },
    {
      "cell_type": "markdown",
      "source": [
        "Change the number in `itertools.islice()` to select different images. Because the code for guided backpropagation modifies some configurations of the model, you need to reload **robust** model if you want to run the below experiment again with different images."
      ],
      "metadata": {
        "id": "rTH6QfdyzfZl"
      }
    },
    {
      "cell_type": "code",
      "source": [
        "image, labels = next(itertools.islice(map_data_loader, 1, None))\n",
        "npimg = image.numpy()\n",
        "print(npimg.shape)\n",
        "fig = plt.figure(figsize = (5, 15))\n",
        "plt.imshow(npimg.reshape(28,28))\n",
        "# plt.title('title')\n",
        "plt.show()"
      ],
      "metadata": {
        "colab": {
          "base_uri": "https://localhost:8080/",
          "height": 344
        },
        "id": "EApeHGl0QtOR",
        "outputId": "b4ca17a9-c733-4a64-d544-62f0d3278e38"
      },
      "execution_count": null,
      "outputs": [
        {
          "output_type": "stream",
          "name": "stdout",
          "text": [
            "(1, 1, 28, 28)\n"
          ]
        },
        {
          "output_type": "display_data",
          "data": {
            "image/png": "[encoded data removed]",
            "text/plain": [
              "<Figure size 360x1080 with 1 Axes>"
            ]
          },
          "metadata": {
            "needs_background": "light"
          }
        }
      ]
    },
    {
      "cell_type": "code",
      "source": [
        "# Set the device for the image\n",
        "image = image.to(device)\n",
        "# Set the requires_grad_ to the image for retrieving gradients\n",
        "image.requires_grad_()\n"
      ],
      "metadata": {
        "colab": {
          "base_uri": "https://localhost:8080/"
        },
        "id": "fQlyaaymQtwX",
        "outputId": "41d3108d-5937-4270-fd6e-fd4969e33cfa"
      },
      "execution_count": null,
      "outputs": [
        {
          "output_type": "execute_result",
          "data": {
            "text/plain": [
              "tensor([[[[0.0000, 0.0000, 0.0000, 0.0000, 0.0000, 0.0000, 0.0000, 0.0000,\n",
              "           0.0000, 0.0000, 0.0000, 0.0000, 0.0000, 0.0000, 0.0000, 0.0000,\n",
              "           0.0000, 0.0000, 0.0000, 0.0000, 0.0000, 0.0000, 0.0000, 0.0000,\n",
              "           0.0000, 0.0000, 0.0000, 0.0000],\n",
              "          [0.0000, 0.0000, 0.0000, 0.0000, 0.0000, 0.0000, 0.0000, 0.0000,\n",
              "           0.0000, 0.0000, 0.0000, 0.0000, 0.0000, 0.0000, 0.0000, 0.0000,\n",
              "           0.0000, 0.0000, 0.0000, 0.0000, 0.0000, 0.0000, 0.0000, 0.0000,\n",
              "           0.0000, 0.0000, 0.0000, 0.0000],\n",
              "          [0.0000, 0.0000, 0.0000, 0.0000, 0.0000, 0.0000, 0.0000, 0.0000,\n",
              "           0.0000, 0.0000, 0.0000, 0.0000, 0.0000, 0.0000, 0.0000, 0.0000,\n",
              "           0.0000, 0.0000, 0.0000, 0.0000, 0.0000, 0.0000, 0.0000, 0.0000,\n",
              "           0.0000, 0.0000, 0.0000, 0.0000],\n",
              "          [0.0000, 0.0000, 0.0000, 0.0000, 0.0000, 0.0000, 0.0000, 0.0000,\n",
              "           0.0000, 0.0000, 0.4549, 0.4902, 0.6706, 1.0000, 1.0000, 0.5882,\n",
              "           0.3647, 0.0000, 0.0000, 0.0000, 0.0000, 0.0000, 0.0000, 0.0000,\n",
              "           0.0000, 0.0000, 0.0000, 0.0000],\n",
              "          [0.0000, 0.0000, 0.0000, 0.0000, 0.0000, 0.0000, 0.0000, 0.0000,\n",
              "           0.0000, 0.6627, 0.9922, 0.9922, 0.9922, 0.9922, 0.9922, 0.9922,\n",
              "           0.8549, 0.1176, 0.0000, 0.0000, 0.0000, 0.0000, 0.0000, 0.0000,\n",
              "           0.0000, 0.0000, 0.0000, 0.0000],\n",
              "          [0.0000, 0.0000, 0.0000, 0.0000, 0.0000, 0.0000, 0.0000, 0.0000,\n",
              "           0.6627, 0.9922, 0.9922, 0.9922, 0.8353, 0.5569, 0.6902, 0.9922,\n",
              "           0.9922, 0.4784, 0.0000, 0.0000, 0.0000, 0.0000, 0.0000, 0.0000,\n",
              "           0.0000, 0.0000, 0.0000, 0.0000],\n",
              "          [0.0000, 0.0000, 0.0000, 0.0000, 0.0000, 0.0000, 0.0000, 0.2039,\n",
              "           0.9804, 0.9922, 0.8235, 0.1255, 0.0471, 0.0000, 0.0235, 0.8078,\n",
              "           0.9922, 0.5490, 0.0000, 0.0000, 0.0000, 0.0000, 0.0000, 0.0000,\n",
              "           0.0000, 0.0000, 0.0000, 0.0000],\n",
              "          [0.0000, 0.0000, 0.0000, 0.0000, 0.0000, 0.0000, 0.0000, 0.3020,\n",
              "           0.9843, 0.8235, 0.0980, 0.0000, 0.0000, 0.0000, 0.4784, 0.9725,\n",
              "           0.9922, 0.2549, 0.0000, 0.0000, 0.0000, 0.0000, 0.0000, 0.0000,\n",
              "           0.0000, 0.0000, 0.0000, 0.0000],\n",
              "          [0.0000, 0.0000, 0.0000, 0.0000, 0.0000, 0.0000, 0.0000, 0.0000,\n",
              "           0.1216, 0.0706, 0.0000, 0.0000, 0.0000, 0.0000, 0.8196, 0.9922,\n",
              "           0.9922, 0.2549, 0.0000, 0.0000, 0.0000, 0.0000, 0.0000, 0.0000,\n",
              "           0.0000, 0.0000, 0.0000, 0.0000],\n",
              "          [0.0000, 0.0000, 0.0000, 0.0000, 0.0000, 0.0000, 0.0000, 0.0000,\n",
              "           0.0000, 0.0000, 0.0000, 0.0000, 0.0000, 0.4588, 0.9686, 0.9922,\n",
              "           0.7765, 0.0392, 0.0000, 0.0000, 0.0000, 0.0000, 0.0000, 0.0000,\n",
              "           0.0000, 0.0000, 0.0000, 0.0000],\n",
              "          [0.0000, 0.0000, 0.0000, 0.0000, 0.0000, 0.0000, 0.0000, 0.0000,\n",
              "           0.0000, 0.0000, 0.0000, 0.0000, 0.2980, 0.9686, 0.9922, 0.9059,\n",
              "           0.2471, 0.0000, 0.0000, 0.0000, 0.0000, 0.0000, 0.0000, 0.0000,\n",
              "           0.0000, 0.0000, 0.0000, 0.0000],\n",
              "          [0.0000, 0.0000, 0.0000, 0.0000, 0.0000, 0.0000, 0.0000, 0.0000,\n",
              "           0.0000, 0.0000, 0.0000, 0.0000, 0.5020, 0.9922, 0.9922, 0.5647,\n",
              "           0.0000, 0.0000, 0.0000, 0.0000, 0.0000, 0.0000, 0.0000, 0.0000,\n",
              "           0.0000, 0.0000, 0.0000, 0.0000],\n",
              "          [0.0000, 0.0000, 0.0000, 0.0000, 0.0000, 0.0000, 0.0000, 0.0000,\n",
              "           0.0000, 0.0000, 0.0000, 0.6902, 0.9647, 0.9922, 0.6235, 0.0471,\n",
              "           0.0000, 0.0000, 0.0000, 0.0000, 0.0000, 0.0000, 0.0000, 0.0000,\n",
              "           0.0000, 0.0000, 0.0000, 0.0000],\n",
              "          [0.0000, 0.0000, 0.0000, 0.0000, 0.0000, 0.0000, 0.0000, 0.0000,\n",
              "           0.0000, 0.0000, 0.0980, 0.9176, 0.9922, 0.9137, 0.1373, 0.0000,\n",
              "           0.0000, 0.0000, 0.0000, 0.0000, 0.0000, 0.0000, 0.0000, 0.0000,\n",
              "           0.0000, 0.0000, 0.0000, 0.0000],\n",
              "          [0.0000, 0.0000, 0.0000, 0.0000, 0.0000, 0.0000, 0.0000, 0.0000,\n",
              "           0.0000, 0.0000, 0.7765, 0.9922, 0.9922, 0.5529, 0.0000, 0.0000,\n",
              "           0.0000, 0.0000, 0.0000, 0.0000, 0.0000, 0.0000, 0.0000, 0.0000,\n",
              "           0.0000, 0.0000, 0.0000, 0.0000],\n",
              "          [0.0000, 0.0000, 0.0000, 0.0000, 0.0000, 0.0000, 0.0000, 0.0000,\n",
              "           0.0000, 0.3059, 0.9725, 0.9922, 0.7412, 0.0471, 0.0000, 0.0000,\n",
              "           0.0000, 0.0000, 0.0000, 0.0000, 0.0000, 0.0000, 0.0000, 0.0000,\n",
              "           0.0000, 0.0000, 0.0000, 0.0000],\n",
              "          [0.0000, 0.0000, 0.0000, 0.0000, 0.0000, 0.0000, 0.0000, 0.0000,\n",
              "           0.0745, 0.7843, 0.9922, 0.9922, 0.5529, 0.0000, 0.0000, 0.0000,\n",
              "           0.0000, 0.0000, 0.0000, 0.0000, 0.0000, 0.0000, 0.0000, 0.0000,\n",
              "           0.0000, 0.0000, 0.0000, 0.0000],\n",
              "          [0.0000, 0.0000, 0.0000, 0.0000, 0.0000, 0.0000, 0.0000, 0.0000,\n",
              "           0.5255, 0.9922, 0.9922, 0.6784, 0.0471, 0.0000, 0.0000, 0.0000,\n",
              "           0.0000, 0.0000, 0.0000, 0.0000, 0.0000, 0.0000, 0.0000, 0.0000,\n",
              "           0.0000, 0.0000, 0.0000, 0.0000],\n",
              "          [0.0000, 0.0000, 0.0000, 0.0000, 0.0000, 0.0000, 0.0000, 0.0000,\n",
              "           0.9725, 0.9922, 0.9922, 0.0980, 0.0000, 0.0000, 0.0000, 0.0000,\n",
              "           0.0000, 0.0000, 0.0000, 0.0000, 0.0000, 0.0000, 0.0000, 0.0000,\n",
              "           0.0000, 0.0000, 0.0000, 0.0000],\n",
              "          [0.0000, 0.0000, 0.0000, 0.0000, 0.0000, 0.0000, 0.0000, 0.0000,\n",
              "           0.9725, 0.9922, 0.9922, 0.1686, 0.0784, 0.0784, 0.0784, 0.0784,\n",
              "           0.0196, 0.0000, 0.0196, 0.0784, 0.0784, 0.1451, 0.5882, 0.5882,\n",
              "           0.5882, 0.5765, 0.0392, 0.0000],\n",
              "          [0.0000, 0.0000, 0.0000, 0.0000, 0.0000, 0.0000, 0.0000, 0.0000,\n",
              "           0.9725, 0.9922, 0.9922, 0.9922, 0.9922, 0.9922, 0.9922, 0.9922,\n",
              "           0.6588, 0.5608, 0.6510, 0.9922, 0.9922, 0.9922, 0.9922, 0.9922,\n",
              "           0.9922, 0.9922, 0.4824, 0.0000],\n",
              "          [0.0000, 0.0000, 0.0000, 0.0000, 0.0000, 0.0000, 0.0000, 0.0000,\n",
              "           0.6824, 0.9922, 0.9922, 0.9922, 0.9922, 0.9922, 0.9922, 0.9922,\n",
              "           0.9922, 0.9922, 0.9922, 0.9922, 0.9765, 0.9686, 0.9686, 0.6627,\n",
              "           0.4588, 0.4588, 0.2235, 0.0000],\n",
              "          [0.0000, 0.0000, 0.0000, 0.0000, 0.0000, 0.0000, 0.0000, 0.0000,\n",
              "           0.0000, 0.4627, 0.4824, 0.4824, 0.4824, 0.6510, 0.9922, 0.9922,\n",
              "           0.9922, 0.6078, 0.4824, 0.4824, 0.1608, 0.0000, 0.0000, 0.0000,\n",
              "           0.0000, 0.0000, 0.0000, 0.0000],\n",
              "          [0.0000, 0.0000, 0.0000, 0.0000, 0.0000, 0.0000, 0.0000, 0.0000,\n",
              "           0.0000, 0.0000, 0.0000, 0.0000, 0.0000, 0.0000, 0.0000, 0.0000,\n",
              "           0.0000, 0.0000, 0.0000, 0.0000, 0.0000, 0.0000, 0.0000, 0.0000,\n",
              "           0.0000, 0.0000, 0.0000, 0.0000],\n",
              "          [0.0000, 0.0000, 0.0000, 0.0000, 0.0000, 0.0000, 0.0000, 0.0000,\n",
              "           0.0000, 0.0000, 0.0000, 0.0000, 0.0000, 0.0000, 0.0000, 0.0000,\n",
              "           0.0000, 0.0000, 0.0000, 0.0000, 0.0000, 0.0000, 0.0000, 0.0000,\n",
              "           0.0000, 0.0000, 0.0000, 0.0000],\n",
              "          [0.0000, 0.0000, 0.0000, 0.0000, 0.0000, 0.0000, 0.0000, 0.0000,\n",
              "           0.0000, 0.0000, 0.0000, 0.0000, 0.0000, 0.0000, 0.0000, 0.0000,\n",
              "           0.0000, 0.0000, 0.0000, 0.0000, 0.0000, 0.0000, 0.0000, 0.0000,\n",
              "           0.0000, 0.0000, 0.0000, 0.0000],\n",
              "          [0.0000, 0.0000, 0.0000, 0.0000, 0.0000, 0.0000, 0.0000, 0.0000,\n",
              "           0.0000, 0.0000, 0.0000, 0.0000, 0.0000, 0.0000, 0.0000, 0.0000,\n",
              "           0.0000, 0.0000, 0.0000, 0.0000, 0.0000, 0.0000, 0.0000, 0.0000,\n",
              "           0.0000, 0.0000, 0.0000, 0.0000],\n",
              "          [0.0000, 0.0000, 0.0000, 0.0000, 0.0000, 0.0000, 0.0000, 0.0000,\n",
              "           0.0000, 0.0000, 0.0000, 0.0000, 0.0000, 0.0000, 0.0000, 0.0000,\n",
              "           0.0000, 0.0000, 0.0000, 0.0000, 0.0000, 0.0000, 0.0000, 0.0000,\n",
              "           0.0000, 0.0000, 0.0000, 0.0000]]]], device='cuda:0',\n",
              "       requires_grad=True)"
            ]
          },
          "metadata": {},
          "execution_count": 59
        }
      ]
    },
    {
      "cell_type": "code",
      "source": [
        "# Retrieve output from the image\n",
        "output = model(image)\n",
        "\n",
        "# Catch the output\n",
        "output_idx = output.argmax()\n",
        "output_max = output[0, output_idx]\n",
        "\n",
        "# Do backpropagation to get the derivative of the output based on the image\n",
        "output_max.backward()"
      ],
      "metadata": {
        "id": "5EINXXRTQv5C"
      },
      "execution_count": null,
      "outputs": []
    },
    {
      "cell_type": "code",
      "source": [
        "_, predicted = torch.max(output.data, 1)\n",
        "predicted"
      ],
      "metadata": {
        "colab": {
          "base_uri": "https://localhost:8080/"
        },
        "id": "v5CMZo4Efaaq",
        "outputId": "9ab39de1-2dcc-43f9-cad5-4805a56f69e4"
      },
      "execution_count": null,
      "outputs": [
        {
          "output_type": "execute_result",
          "data": {
            "text/plain": [
              "tensor([2], device='cuda:0')"
            ]
          },
          "metadata": {},
          "execution_count": 61
        }
      ]
    },
    {
      "cell_type": "code",
      "source": [
        "guided_grads = get_gradients(model.cpu(), image.cpu(), labels)\n",
        "guided_grads = np.abs(guided_grads)\n",
        "calculate_score(image.cpu().detach(), guided_grads)"
      ],
      "metadata": {
        "colab": {
          "base_uri": "https://localhost:8080/"
        },
        "outputId": "f7fda358-bc0f-4cca-e166-a5e3dc966ede",
        "id": "cfXdZfVgo0xh"
      },
      "execution_count": null,
      "outputs": [
        {
          "output_type": "stream",
          "name": "stderr",
          "text": [
            "/usr/local/lib/python3.7/dist-packages/torch/nn/modules/module.py:1025: UserWarning: Using a non-full backward hook when the forward contains multiple autograd Nodes is deprecated and will be removed in future versions. This hook will be missing some grad_input. Please use register_full_backward_hook to get the documented behavior.\n",
            "  warnings.warn(\"Using a non-full backward hook when the forward contains multiple autograd Nodes \"\n"
          ]
        },
        {
          "output_type": "execute_result",
          "data": {
            "text/plain": [
              "15.716099"
            ]
          },
          "metadata": {},
          "execution_count": 62
        }
      ]
    },
    {
      "cell_type": "code",
      "source": [
        "# Retireve the saliency map and also pick the maximum value from channels on each pixel.\n",
        "# In this case, we look at dim=1. Recall the shape (batch_size, channel, width, height)\n",
        "# saliency, _ = torch.max(image.grad.data.abs(), dim=1) \n",
        "# saliency = saliency.reshape(32, 32)\n",
        "\n",
        "# Reshape the image\n",
        "# image = image.reshape(-1, 32, 32)\n",
        "\n",
        "# Visualize the image and the saliency map\n",
        "fig, ax = plt.subplots(1, 2)\n",
        "ax[0].imshow(image.cpu().detach().numpy().reshape(28,28), cmap='gray')\n",
        "ax[0].axis('off')\n",
        "ax[1].imshow(guided_grads.reshape(28,28), cmap='gray')\n",
        "ax[1].axis('off')\n",
        "plt.tight_layout()\n",
        "fig.suptitle('The Image and Its Saliency Map')\n",
        "plt.show()"
      ],
      "metadata": {
        "colab": {
          "base_uri": "https://localhost:8080/",
          "height": 269
        },
        "outputId": "b6629ebf-79fd-4fd1-a251-923a30e09d27",
        "id": "Ue1aYXRZpQBF"
      },
      "execution_count": null,
      "outputs": [
        {
          "output_type": "display_data",
          "data": {
            "image/png": "[encoded data removed]",
            "text/plain": [
              "<Figure size 432x288 with 2 Axes>"
            ]
          },
          "metadata": {
            "needs_background": "light"
          }
        }
      ]
    },
    {
      "cell_type": "code",
      "source": [
        "save_gradient_images(guided_grads, 'robust-origin-2')"
      ],
      "metadata": {
        "id": "7okws7hF8dEY"
      },
      "execution_count": null,
      "outputs": []
    },
    {
      "cell_type": "markdown",
      "source": [
        "Does stronger adversarially trained model gives a dimmer gradient map?"
      ],
      "metadata": {
        "id": "3lVqWPH_j0LA"
      }
    },
    {
      "cell_type": "markdown",
      "source": [
        "## Map of adversaries"
      ],
      "metadata": {
        "id": "7Ns5uW8vS2Cn"
      }
    },
    {
      "cell_type": "markdown",
      "source": [
        "Change the number in `itertools.islice()` to select different images. Because the code for guided backpropagation modifies some configurations of the model, you need to reload **robust** model if you want to run the below experiment again with different images."
      ],
      "metadata": {
        "id": "ZVWnKNCVz40J"
      }
    },
    {
      "cell_type": "code",
      "source": [
        "image, labels = next(itertools.islice(adv_loader, 1, None))\n",
        "image = (image - torch.min(image)) / (torch.max(image) - torch.min(image))\n",
        "npimg = image.numpy()\n",
        "print(npimg.shape)\n",
        "fig = plt.figure(figsize = (5, 15))\n",
        "plt.imshow(npimg.reshape(28,28))\n",
        "# plt.title('title')\n",
        "plt.show()"
      ],
      "metadata": {
        "colab": {
          "base_uri": "https://localhost:8080/",
          "height": 344
        },
        "id": "JfeZIudhS7mi",
        "outputId": "3ac281c3-ccf9-4b67-ff8c-112bd390c456"
      },
      "execution_count": null,
      "outputs": [
        {
          "output_type": "stream",
          "name": "stdout",
          "text": [
            "(1, 1, 28, 28)\n"
          ]
        },
        {
          "output_type": "display_data",
          "data": {
            "image/png": "[encoded data removed]",
            "text/plain": [
              "<Figure size 360x1080 with 1 Axes>"
            ]
          },
          "metadata": {
            "needs_background": "light"
          }
        }
      ]
    },
    {
      "cell_type": "markdown",
      "source": [
        "### Plotting the map"
      ],
      "metadata": {
        "id": "zbvweocAT6WN"
      }
    },
    {
      "cell_type": "code",
      "source": [
        "# Set the device for the image\n",
        "image = image.to(device)\n",
        "# Set the requires_grad_ to the image for retrieving gradients\n",
        "image.requires_grad_()\n",
        "# Retrieve output from the image\n",
        "output = model(image)\n",
        "\n",
        "# Catch the output\n",
        "output_idx = output.argmax()\n",
        "output_max = output[0, output_idx]\n",
        "\n",
        "# Do backpropagation to get the derivative of the output based on the image\n",
        "output_max.backward()"
      ],
      "metadata": {
        "id": "5mxbWMYlTGo9"
      },
      "execution_count": null,
      "outputs": []
    },
    {
      "cell_type": "code",
      "source": [
        "_, predicted = torch.max(output.data, 1)\n",
        "predicted"
      ],
      "metadata": {
        "colab": {
          "base_uri": "https://localhost:8080/"
        },
        "id": "PvD0fnyGfK35",
        "outputId": "46b0cf84-ed77-4fe8-8e69-6f53a22b5e45"
      },
      "execution_count": null,
      "outputs": [
        {
          "output_type": "execute_result",
          "data": {
            "text/plain": [
              "tensor([2], device='cuda:0')"
            ]
          },
          "metadata": {},
          "execution_count": 89
        }
      ]
    },
    {
      "cell_type": "markdown",
      "source": [
        "Correct classification!"
      ],
      "metadata": {
        "id": "psUv8DOVkF4M"
      }
    },
    {
      "cell_type": "code",
      "source": [
        "guided_grads = get_gradients(model.cpu(), image.cpu(), labels)\n",
        "guided_grads = np.abs(guided_grads)\n",
        "calculate_score(image.cpu().detach(), guided_grads)"
      ],
      "metadata": {
        "colab": {
          "base_uri": "https://localhost:8080/"
        },
        "outputId": "9a6a915f-a1f0-4504-b6d2-f3bbf98f8b3f",
        "id": "Bb8TZMcwprGv"
      },
      "execution_count": null,
      "outputs": [
        {
          "output_type": "stream",
          "name": "stderr",
          "text": [
            "/usr/local/lib/python3.7/dist-packages/torch/nn/modules/module.py:1025: UserWarning: Using a non-full backward hook when the forward contains multiple autograd Nodes is deprecated and will be removed in future versions. This hook will be missing some grad_input. Please use register_full_backward_hook to get the documented behavior.\n",
            "  warnings.warn(\"Using a non-full backward hook when the forward contains multiple autograd Nodes \"\n"
          ]
        },
        {
          "output_type": "execute_result",
          "data": {
            "text/plain": [
              "11.835511"
            ]
          },
          "metadata": {},
          "execution_count": 90
        }
      ]
    },
    {
      "cell_type": "code",
      "source": [
        "# Retireve the saliency map and also pick the maximum value from channels on each pixel.\n",
        "# In this case, we look at dim=1. Recall the shape (batch_size, channel, width, height)\n",
        "# saliency, _ = torch.max(image.grad.data.abs(), dim=1) \n",
        "# saliency = saliency.reshape(32, 32)\n",
        "\n",
        "# Reshape the image\n",
        "# image = image.reshape(-1, 32, 32)\n",
        "\n",
        "# Visualize the image and the saliency map\n",
        "fig, ax = plt.subplots(1, 2)\n",
        "ax[0].imshow(image.cpu().detach().numpy().reshape(28,28), cmap='gray')\n",
        "ax[0].axis('off')\n",
        "ax[1].imshow(guided_grads.reshape(28,28), cmap='gray')\n",
        "ax[1].axis('off')\n",
        "plt.tight_layout()\n",
        "fig.suptitle('The Image and Its Saliency Map')\n",
        "plt.show()"
      ],
      "metadata": {
        "colab": {
          "base_uri": "https://localhost:8080/",
          "height": 269
        },
        "outputId": "b382af43-36e4-4fea-bae7-d370a110233c",
        "id": "d9bdzeSXp3s5"
      },
      "execution_count": null,
      "outputs": [
        {
          "output_type": "display_data",
          "data": {
            "image/png": "[encoded data removed]",
            "text/plain": [
              "<Figure size 432x288 with 2 Axes>"
            ]
          },
          "metadata": {
            "needs_background": "light"
          }
        }
      ]
    },
    {
      "cell_type": "code",
      "source": [
        "save_gradient_images(guided_grads, 'robust-adversarial-2')"
      ],
      "metadata": {
        "id": "dFEyRsYO96xy"
      },
      "execution_count": null,
      "outputs": []
    }
  ]
}